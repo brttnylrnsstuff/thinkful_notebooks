{
 "cells": [
  {
   "cell_type": "code",
   "execution_count": 7,
   "metadata": {
    "collapsed": true
   },
   "outputs": [],
   "source": [
    "import numpy as np\n",
    "import pandas as pd\n",
    "import matplotlib.pyplot as plt\n",
    "%matplotlib inline"
   ]
  },
  {
   "cell_type": "code",
   "execution_count": 34,
   "metadata": {
    "collapsed": true
   },
   "outputs": [],
   "source": [
    "df = pd.DataFrame()\n",
    "df['name'] = ['Greg', 'Marsha', 'Peter', 'Jan', 'Bobby', 'Cindy', 'Oliver']\n",
    "df['age'] = [14, 12, 11, 10, 8, 6, 8]\n",
    "\n",
    "df2 = pd.DataFrame()\n",
    "df2['magazine'] = ['TV Guide', 'Entertainment Weekly', 'Pop Culture Today', 'SciPhi Phanatic']\n",
    "df2['fans'] = [0.20, 0.23, 0.17, 0.05]"
   ]
  },
  {
   "cell_type": "code",
   "execution_count": 40,
   "metadata": {},
   "outputs": [
    {
     "name": "stdout",
     "output_type": "stream",
     "text": [
      "Mean: 9.9 Median: 10.0 StDev: 2.7 Var: 7.5 StdErr: 1.033454\n",
      "Fans of the Brady Bunch: 16.3% Mean, 8.6% P10, 22.1% P90\n"
     ]
    },
    {
     "data": {
      "text/plain": [
       "count    4.000000\n",
       "mean     0.162500\n",
       "std      0.078899\n",
       "min      0.050000\n",
       "25%      0.140000\n",
       "50%      0.185000\n",
       "75%      0.207500\n",
       "max      0.230000\n",
       "Name: fans, dtype: float64"
      ]
     },
     "execution_count": 40,
     "metadata": {},
     "output_type": "execute_result"
    }
   ],
   "source": [
    "print('Mean: {:.1f} Median: {:.1f} StDev: {:.1f} Var: {:.1f} StdErr: {:.6f}'.format\\\n",
    "      (np.mean(df['age']), np.median(df['age']), np.std(df['age'], ddof=1),\\\n",
    "       df['age'].var(), np.std(df['age'] ,ddof=1) / np.sqrt(len(df['age']))))\n",
    "\n",
    "print('Fans of the Brady Bunch: {:.1f}% Mean, {:.1f}% P10, {:.1f}% P90'.format\\\n",
    "      (np.mean(df2['fans']) * 100, np.percentile(df2['fans'], 10) * 100, np.percentile(df2['fans'], 90) * 100))\n",
    "\n",
    "df2['fans'].describe()"
   ]
  },
  {
   "cell_type": "code",
   "execution_count": null,
   "metadata": {
    "collapsed": true
   },
   "outputs": [],
   "source": []
  }
 ],
 "metadata": {
  "kernelspec": {
   "display_name": "Python 3",
   "language": "python",
   "name": "python3"
  },
  "language_info": {
   "codemirror_mode": {
    "name": "ipython",
    "version": 3
   },
   "file_extension": ".py",
   "mimetype": "text/x-python",
   "name": "python",
   "nbconvert_exporter": "python",
   "pygments_lexer": "ipython3",
   "version": "3.6.3"
  }
 },
 "nbformat": 4,
 "nbformat_minor": 2
}
