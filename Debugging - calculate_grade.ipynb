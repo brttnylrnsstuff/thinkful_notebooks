{
 "cells": [
  {
   "cell_type": "code",
   "execution_count": 1,
   "metadata": {
    "collapsed": true
   },
   "outputs": [],
   "source": [
    "def calculate_grade(scores):\n",
    "    total = 0.0\n",
    "    for score in scores:\n",
    "        total += score\n",
    "    percent = total / len(scores)\n",
    "    if percent >= 90.0:\n",
    "        return str(percent) + '%: A'\n",
    "    elif percent >= 80.0:\n",
    "        return str(percent) + '%: B'\n",
    "    elif percent >= 70.0:\n",
    "        return str(percent) + '%: C'\n",
    "    elif percent >= 60.0:\n",
    "        return str(percent) + '%: D'\n",
    "    else:\n",
    "        return str(percent) + '%: F'"
   ]
  },
  {
   "cell_type": "code",
   "execution_count": null,
   "metadata": {
    "collapsed": true
   },
   "outputs": [],
   "source": []
  }
 ],
 "metadata": {
  "kernelspec": {
   "display_name": "Python 3",
   "language": "python",
   "name": "python3"
  },
  "language_info": {
   "codemirror_mode": {
    "name": "ipython",
    "version": 3
   },
   "file_extension": ".py",
   "mimetype": "text/x-python",
   "name": "python",
   "nbconvert_exporter": "python",
   "pygments_lexer": "ipython3",
   "version": "3.6.3"
  }
 },
 "nbformat": 4,
 "nbformat_minor": 2
}
