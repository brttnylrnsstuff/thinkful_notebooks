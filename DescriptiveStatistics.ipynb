{
 "cells": [
  {
   "cell_type": "markdown",
   "metadata": {},
   "source": [
    "# Descriptive Statistics"
   ]
  },
  {
   "cell_type": "code",
   "execution_count": 2,
   "metadata": {
    "collapsed": true
   },
   "outputs": [],
   "source": [
    "import numpy as np\n",
    "import pandas as pd\n",
    "import matplotlib.pyplot as plt\n",
    "%matplotlib inline"
   ]
  },
  {
   "cell_type": "markdown",
   "metadata": {},
   "source": [
    "## Skew can be indicated by a mean - median mismatch.\n",
    "### The skew in this setup is small enough that depending on the random seed, it's unnoticeable. However, if you run the np.random.normal() function over and over, you can see the skew in some cases."
   ]
  },
  {
   "cell_type": "code",
   "execution_count": 16,
   "metadata": {},
   "outputs": [
    {
     "data": {
      "image/png": "[encoded data removed]",
      "text/plain": [
       "<matplotlib.figure.Figure at 0x2349b74b5c0>"
      ]
     },
     "metadata": {},
     "output_type": "display_data"
    }
   ],
   "source": [
    "df = pd.DataFrame()\n",
    "df['var1'] = np.random.normal(5, .5, 100000)\n",
    "df['var2'] = np.random.normal(30, 1, 100000)\n",
    "df['var3'] = df['var1'] + df['var2']\n",
    "\n",
    "plt.figure(figsize=(15, 2))\n",
    "plt.subplot(111)\n",
    "#plt.hist(df['var1'], bins=100, alpha=0.8, color='blue')\n",
    "#plt.hist(df['var2'], bins=100, alpha=0.7, color='green')\n",
    "plt.hist(df['var3'], bins=1000, alpha=0.4, color='teal')\n",
    "plt.axvline(df['var3'].mean(), ymin=0, ymax=0.5, color='green')\n",
    "plt.axvline(df['var3'].median(), ymin=0.5, ymax=1, color='red')\n",
    "plt.show()"
   ]
  },
  {
   "cell_type": "code",
   "execution_count": 10,
   "metadata": {},
   "outputs": [
    {
     "data": {
      "image/png": "[encoded data removed]",
      "text/plain": [
       "<matplotlib.figure.Figure at 0x2349b2c0198>"
      ]
     },
     "metadata": {},
     "output_type": "display_data"
    }
   ],
   "source": [
    "df = pd.DataFrame()\n",
    "df['var1'] = np.random.normal(5, .5, 1000)\n",
    "df['var2'] = np.random.normal(10, 1, 1000)\n",
    "df['var3'] = df['var1'] + df['var2']\n",
    "\n",
    "plt.figure(figsize=(15, 2))\n",
    "plt.subplot(111)\n",
    "#plt.hist(df['var1'], bins=100, alpha=0.8, color='blue')\n",
    "#plt.hist(df['var2'], bins=100, alpha=0.7, color='green')\n",
    "plt.hist(df['var3'], bins=100, alpha=0.4, color='teal')\n",
    "plt.axvline(df['var3'].mean(), ymin=0, ymax=0.5, color='green')\n",
    "plt.axvline(df['var3'].median(), ymin=0.5, ymax=1, color='red')\n",
    "plt.show()"
   ]
  },
  {
   "cell_type": "code",
   "execution_count": 43,
   "metadata": {},
   "outputs": [
    {
     "data": {
      "image/png": "[encoded data removed]",
      "text/plain": [
       "<matplotlib.figure.Figure at 0x1ea8ba0c240>"
      ]
     },
     "metadata": {},
     "output_type": "display_data"
    }
   ],
   "source": [
    "df = pd.DataFrame()\n",
    "df['var1'] = np.random.normal(5, .5, 1000)\n",
    "df['var2'] = np.random.normal(10, 1, 1000)\n",
    "df['var3'] = df['var1'] + df['var2']\n",
    "\n",
    "plt.figure(figsize=(15, 2))\n",
    "plt.subplot(111)\n",
    "#plt.hist(df['var1'], bins=100, alpha=0.8, color='blue')\n",
    "#plt.hist(df['var2'], bins=100, alpha=0.7, color='green')\n",
    "plt.hist(df['var3'], bins=100, alpha=0.4, color='teal')\n",
    "plt.axvline(df['var3'].mean(), ymin=0, ymax=0.5, color='green')\n",
    "plt.axvline(df['var3'].median(), ymin=0.5, ymax=1, color='red')\n",
    "plt.show()"
   ]
  },
  {
   "cell_type": "code",
   "execution_count": null,
   "metadata": {
    "collapsed": true
   },
   "outputs": [],
   "source": []
  }
 ],
 "metadata": {
  "kernelspec": {
   "display_name": "Python 3",
   "language": "python",
   "name": "python3"
  },
  "language_info": {
   "codemirror_mode": {
    "name": "ipython",
    "version": 3
   },
   "file_extension": ".py",
   "mimetype": "text/x-python",
   "name": "python",
   "nbconvert_exporter": "python",
   "pygments_lexer": "ipython3",
   "version": "3.6.3"
  }
 },
 "nbformat": 4,
 "nbformat_minor": 2
}
