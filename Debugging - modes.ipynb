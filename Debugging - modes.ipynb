{
 "cells": [
  {
   "cell_type": "code",
   "execution_count": 4,
   "metadata": {
    "collapsed": true
   },
   "outputs": [],
   "source": [
    "data_list = ['tomato', [1,3,3,7], 'redder']"
   ]
  },
  {
   "cell_type": "code",
   "execution_count": 5,
   "metadata": {
    "collapsed": true
   },
   "outputs": [],
   "source": [
    "import traceback\n",
    "def counts(data):\n",
    "    try:\n",
    "        d = {}\n",
    "        for i in data:\n",
    "            d.setdefault(i,0)\n",
    "            d[i] += 1\n",
    "        print(d)\n",
    "    except KeyError:\n",
    "        traceback.print_exc()"
   ]
  },
  {
   "cell_type": "code",
   "execution_count": 6,
   "metadata": {
    "collapsed": true
   },
   "outputs": [],
   "source": [
    "def modes(data):\n",
    "    d = {}\n",
    "    for i in data:\n",
    "        d.setdefault(i,0)\n",
    "        d[i] += 1\n",
    "    keys = d.keys()\n",
    "    values = d.values()\n",
    "    return max(values)"
   ]
  },
  {
   "cell_type": "code",
   "execution_count": 7,
   "metadata": {},
   "outputs": [
    {
     "name": "stdout",
     "output_type": "stream",
     "text": [
      "{'t': 2, 'o': 2, 'm': 1, 'a': 1}\n",
      "{1: 1, 3: 2, 7: 1}\n",
      "{'r': 2, 'e': 2, 'd': 2}\n"
     ]
    }
   ],
   "source": [
    "for i in data_list:\n",
    "    counts(i)"
   ]
  },
  {
   "cell_type": "code",
   "execution_count": 10,
   "metadata": {},
   "outputs": [
    {
     "data": {
      "text/plain": [
       "2"
      ]
     },
     "execution_count": 10,
     "metadata": {},
     "output_type": "execute_result"
    }
   ],
   "source": [
    "modes('tomato')"
   ]
  },
  {
   "cell_type": "code",
   "execution_count": null,
   "metadata": {
    "collapsed": true
   },
   "outputs": [],
   "source": []
  }
 ],
 "metadata": {
  "kernelspec": {
   "display_name": "Python 3",
   "language": "python",
   "name": "python3"
  },
  "language_info": {
   "codemirror_mode": {
    "name": "ipython",
    "version": 3
   },
   "file_extension": ".py",
   "mimetype": "text/x-python",
   "name": "python",
   "nbconvert_exporter": "python",
   "pygments_lexer": "ipython3",
   "version": "3.6.3"
  }
 },
 "nbformat": 4,
 "nbformat_minor": 2
}
