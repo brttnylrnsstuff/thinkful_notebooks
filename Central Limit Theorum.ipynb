{
 "cells": [
  {
   "cell_type": "code",
   "execution_count": 1,
   "metadata": {
    "collapsed": true
   },
   "outputs": [],
   "source": [
    "import numpy as np\n",
    "import pandas as pd\n",
    "from scipy.stats import ttest_ind\n",
    "import matplotlib.pyplot as plt\n",
    "%matplotlib inline"
   ]
  },
  {
   "cell_type": "code",
   "execution_count": 61,
   "metadata": {},
   "outputs": [
    {
     "name": "stdout",
     "output_type": "stream",
     "text": [
      "Population 1 | Mean: 1.0 | Standard Deviation: 0.94\n",
      "Population 2 | Mean: 5.0 | Standard Deviation: 1.58\n"
     ]
    },
    {
     "data": {
      "image/png": "[encoded data removed]",
      "text/plain": [
       "<matplotlib.figure.Figure at 0x1774350ffd0>"
      ]
     },
     "metadata": {},
     "output_type": "display_data"
    }
   ],
   "source": [
    "pop1 = np.random.binomial(10, 0.1, 10000)\n",
    "pop2 = np.random.binomial(10,0.5, 10000)\n",
    "\n",
    "print('Population 1 | Mean: {:.1f} | Standard Deviation: {:.2f}'.format(pop1.mean(), pop1.std()))\n",
    "print('Population 2 | Mean: {:.1f} | Standard Deviation: {:.2f}'.format(pop2.mean(), pop2.std()))\n",
    "\n",
    "plt.hist(pop1, alpha=0.5, label='Population 1') \n",
    "plt.hist(pop2, alpha=0.5, label='Population 2') \n",
    "plt.legend(loc='upper right') \n",
    "plt.show()"
   ]
  },
  {
   "cell_type": "code",
   "execution_count": 62,
   "metadata": {},
   "outputs": [
    {
     "name": "stdout",
     "output_type": "stream",
     "text": [
      "Sample 1 | Mean: 0.9 | Standard Deviation: 0.89\n",
      "Sample 2 | Mean: 5.0 | Standard Deviation: 1.60\n",
      "T-value: 21.91048825 | P-value: 2.73539945e-49\n"
     ]
    },
    {
     "data": {
      "image/png": "[encoded data removed]",
      "text/plain": [
       "<matplotlib.figure.Figure at 0x177433b81d0>"
      ]
     },
     "metadata": {},
     "output_type": "display_data"
    }
   ],
   "source": [
    "samp1 = np.random.choice(pop1, 100, replace=True)\n",
    "samp2 = np.random.choice(pop2, 100, replace=True)\n",
    "\n",
    "print('Sample 1 | Mean: {:.1f} | Standard Deviation: {:.2f}'.format(samp1.mean(), samp1.std()))\n",
    "print('Sample 2 | Mean: {:.1f} | Standard Deviation: {:.2f}'.format(samp2.mean(), samp2.std()))\n",
    "ttest = ttest_ind(samp2, samp1, equal_var=False)\n",
    "print('T-value: {:.8f} | P-value: {:.8e}'.format(ttest[0], ttest[1]))\n",
    "\n",
    "plt.hist(samp1, alpha=0.5, label='Sample 1') \n",
    "plt.hist(samp2, alpha=0.5, label='Sample 2') \n",
    "plt.legend(loc='upper right') \n",
    "plt.show()"
   ]
  },
  {
   "cell_type": "code",
   "execution_count": null,
   "metadata": {
    "collapsed": true
   },
   "outputs": [],
   "source": []
  }
 ],
 "metadata": {
  "kernelspec": {
   "display_name": "Python 3",
   "language": "python",
   "name": "python3"
  },
  "language_info": {
   "codemirror_mode": {
    "name": "ipython",
    "version": 3
   },
   "file_extension": ".py",
   "mimetype": "text/x-python",
   "name": "python",
   "nbconvert_exporter": "python",
   "pygments_lexer": "ipython3",
   "version": "3.6.3"
  }
 },
 "nbformat": 4,
 "nbformat_minor": 2
}
